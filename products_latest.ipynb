{
 "cells": [
  {
   "cell_type": "code",
   "execution_count": 16,
   "metadata": {},
   "outputs": [],
   "source": [
    "from selenium import webdriver\n",
    "from selenium.webdriver.chrome.service import Service\n",
    "from selenium.webdriver.common.by import By\n",
    "from selenium.webdriver.chrome.options import Options\n",
    "from bs4 import BeautifulSoup\n",
    "import pandas as pd\n",
    "import time\n",
    "import os\n",
    "import requests\n",
    "import json\n",
    "from datetime import datetime "
   ]
  },
  {
   "cell_type": "code",
   "execution_count": 17,
   "metadata": {},
   "outputs": [],
   "source": [
    "url =  \"https://apis.11st.co.kr/pui/v2/page?pageId=APCCATEGORY&dispCtgr2No=1149914&benefit=MBSHP_PRD&blckSn=7933&pageMode=END\""
   ]
  },
  {
   "cell_type": "code",
   "execution_count": 18,
   "metadata": {},
   "outputs": [],
   "source": [
    "def extract_product_data() :\n",
    "    response = requests.get(url)\n",
    "\n",
    "    products = []\n",
    "\n",
    "    if response.status_code == 200 :\n",
    "        data = response.json()\n",
    "\n",
    "        # Loop through all blocks in 'blockList'\n",
    "        for block in data['data'][0]['blockList']:\n",
    "            # Check if the block contains products (based on its type)\n",
    "            if block['type'] == 'Acme_PC_ProductBox_Category_Col4_Small':\n",
    "                # Extract products from this block\n",
    "                for item in block['list']:\n",
    "                    # Ensure the required fields exist before extraction\n",
    "                    if 'prdNm' in item:\n",
    "\n",
    "                        # Extract promotionFlags text if available\n",
    "                        promotion_flags = item.get('promotionFlags', [])\n",
    "                        # Join multiple promotion texts if present\n",
    "                        promotion_texts = ', '.join(flag.get('text', '') for flag in promotion_flags)\n",
    "                        product_info = {\n",
    "                            'Image URL': item.get('imageUrl', 'N/A'),\n",
    "                            'Product Name': item.get('prdNm', 'N/A'),\n",
    "                            'Original Price': item.get('sellPrice', 'N/A'),\n",
    "                            'Discounted Price': item.get('finalDscPrice', 'N/A'),\n",
    "                            'Discount Rate': item.get('discountRate', 'N/A') + item.get('discountRateUnitText', ''),\n",
    "                            'Link': item.get('linkUrl', 'N/A'),\n",
    "                            'Review Count': item.get('review', {}).get('count', 'N/A'),\n",
    "                            'Review Score': item.get('review', {}).get('point', 'N/A'),\n",
    "                            'Is Sold Out': item.get('isSoldOut', 'N/A'),\n",
    "                            'Promotion Texts': promotion_texts  # Include promotion texts here\n",
    "                        }\n",
    "                        products.append(product_info)\n",
    "\n",
    "            # Print the extracted product information\n",
    "        for product in products:\n",
    "            print(product)\n",
    "\n",
    "        return products\n",
    "\n",
    "    else :\n",
    "        print(f\"Failed to retrieve data. Status code: {response.status_code}\")\n",
    "        return products\n",
    "\n",
    "        "
   ]
  },
  {
   "cell_type": "code",
   "execution_count": 19,
   "metadata": {},
   "outputs": [
    {
     "ename": "AttributeError",
     "evalue": "'list' object has no attribute 'get'",
     "output_type": "error",
     "traceback": [
      "\u001b[0;31m---------------------------------------------------------------------------\u001b[0m",
      "\u001b[0;31mAttributeError\u001b[0m                            Traceback (most recent call last)",
      "Cell \u001b[0;32mIn[19], line 1\u001b[0m\n\u001b[0;32m----> 1\u001b[0m products \u001b[38;5;241m=\u001b[39m \u001b[43mextract_product_data\u001b[49m\u001b[43m(\u001b[49m\u001b[43m)\u001b[49m\n",
      "Cell \u001b[0;32mIn[18], line 26\u001b[0m, in \u001b[0;36mextract_product_data\u001b[0;34m()\u001b[0m\n\u001b[1;32m     14\u001b[0m     \u001b[38;5;28;01mfor\u001b[39;00m item \u001b[38;5;129;01min\u001b[39;00m block[\u001b[38;5;124m'\u001b[39m\u001b[38;5;124mlist\u001b[39m\u001b[38;5;124m'\u001b[39m]:\n\u001b[1;32m     15\u001b[0m         \u001b[38;5;66;03m# Ensure the required fields exist before extraction\u001b[39;00m\n\u001b[1;32m     16\u001b[0m         \u001b[38;5;28;01mif\u001b[39;00m \u001b[38;5;124m'\u001b[39m\u001b[38;5;124mprdNm\u001b[39m\u001b[38;5;124m'\u001b[39m \u001b[38;5;129;01min\u001b[39;00m item:\n\u001b[1;32m     17\u001b[0m             product_info \u001b[38;5;241m=\u001b[39m {\n\u001b[1;32m     18\u001b[0m                 \u001b[38;5;124m'\u001b[39m\u001b[38;5;124mImage URL\u001b[39m\u001b[38;5;124m'\u001b[39m: item\u001b[38;5;241m.\u001b[39mget(\u001b[38;5;124m'\u001b[39m\u001b[38;5;124mimageUrl\u001b[39m\u001b[38;5;124m'\u001b[39m, \u001b[38;5;124m'\u001b[39m\u001b[38;5;124mN/A\u001b[39m\u001b[38;5;124m'\u001b[39m),\n\u001b[1;32m     19\u001b[0m                 \u001b[38;5;124m'\u001b[39m\u001b[38;5;124mProduct Name\u001b[39m\u001b[38;5;124m'\u001b[39m: item\u001b[38;5;241m.\u001b[39mget(\u001b[38;5;124m'\u001b[39m\u001b[38;5;124mprdNm\u001b[39m\u001b[38;5;124m'\u001b[39m, \u001b[38;5;124m'\u001b[39m\u001b[38;5;124mN/A\u001b[39m\u001b[38;5;124m'\u001b[39m),\n\u001b[1;32m     20\u001b[0m                 \u001b[38;5;124m'\u001b[39m\u001b[38;5;124mOriginal Price\u001b[39m\u001b[38;5;124m'\u001b[39m: item\u001b[38;5;241m.\u001b[39mget(\u001b[38;5;124m'\u001b[39m\u001b[38;5;124msellPrice\u001b[39m\u001b[38;5;124m'\u001b[39m, \u001b[38;5;124m'\u001b[39m\u001b[38;5;124mN/A\u001b[39m\u001b[38;5;124m'\u001b[39m),\n\u001b[1;32m     21\u001b[0m                 \u001b[38;5;124m'\u001b[39m\u001b[38;5;124mDiscounted Price\u001b[39m\u001b[38;5;124m'\u001b[39m: item\u001b[38;5;241m.\u001b[39mget(\u001b[38;5;124m'\u001b[39m\u001b[38;5;124mfinalDscPrice\u001b[39m\u001b[38;5;124m'\u001b[39m, \u001b[38;5;124m'\u001b[39m\u001b[38;5;124mN/A\u001b[39m\u001b[38;5;124m'\u001b[39m),\n\u001b[1;32m     22\u001b[0m                 \u001b[38;5;124m'\u001b[39m\u001b[38;5;124mDiscount Rate\u001b[39m\u001b[38;5;124m'\u001b[39m: item\u001b[38;5;241m.\u001b[39mget(\u001b[38;5;124m'\u001b[39m\u001b[38;5;124mdiscountRate\u001b[39m\u001b[38;5;124m'\u001b[39m, \u001b[38;5;124m'\u001b[39m\u001b[38;5;124mN/A\u001b[39m\u001b[38;5;124m'\u001b[39m) \u001b[38;5;241m+\u001b[39m item\u001b[38;5;241m.\u001b[39mget(\u001b[38;5;124m'\u001b[39m\u001b[38;5;124mdiscountRateUnitText\u001b[39m\u001b[38;5;124m'\u001b[39m, \u001b[38;5;124m'\u001b[39m\u001b[38;5;124m'\u001b[39m),\n\u001b[1;32m     23\u001b[0m                 \u001b[38;5;124m'\u001b[39m\u001b[38;5;124mLink\u001b[39m\u001b[38;5;124m'\u001b[39m: item\u001b[38;5;241m.\u001b[39mget(\u001b[38;5;124m'\u001b[39m\u001b[38;5;124mlinkUrl\u001b[39m\u001b[38;5;124m'\u001b[39m, \u001b[38;5;124m'\u001b[39m\u001b[38;5;124mN/A\u001b[39m\u001b[38;5;124m'\u001b[39m),\n\u001b[1;32m     24\u001b[0m                 \u001b[38;5;124m'\u001b[39m\u001b[38;5;124mReview Count\u001b[39m\u001b[38;5;124m'\u001b[39m: item\u001b[38;5;241m.\u001b[39mget(\u001b[38;5;124m'\u001b[39m\u001b[38;5;124mreview\u001b[39m\u001b[38;5;124m'\u001b[39m, {})\u001b[38;5;241m.\u001b[39mget(\u001b[38;5;124m'\u001b[39m\u001b[38;5;124mcount\u001b[39m\u001b[38;5;124m'\u001b[39m, \u001b[38;5;124m'\u001b[39m\u001b[38;5;124mN/A\u001b[39m\u001b[38;5;124m'\u001b[39m),\n\u001b[1;32m     25\u001b[0m                 \u001b[38;5;124m'\u001b[39m\u001b[38;5;124mReview Score\u001b[39m\u001b[38;5;124m'\u001b[39m: item\u001b[38;5;241m.\u001b[39mget(\u001b[38;5;124m'\u001b[39m\u001b[38;5;124mreview\u001b[39m\u001b[38;5;124m'\u001b[39m, {})\u001b[38;5;241m.\u001b[39mget(\u001b[38;5;124m'\u001b[39m\u001b[38;5;124mpoint\u001b[39m\u001b[38;5;124m'\u001b[39m, \u001b[38;5;124m'\u001b[39m\u001b[38;5;124mN/A\u001b[39m\u001b[38;5;124m'\u001b[39m),\n\u001b[0;32m---> 26\u001b[0m                 \u001b[38;5;124m'\u001b[39m\u001b[38;5;124mPromotion\u001b[39m\u001b[38;5;124m'\u001b[39m: \u001b[43mitem\u001b[49m\u001b[38;5;241;43m.\u001b[39;49m\u001b[43mget\u001b[49m\u001b[43m(\u001b[49m\u001b[38;5;124;43m'\u001b[39;49m\u001b[38;5;124;43mpromotionFlags\u001b[39;49m\u001b[38;5;124;43m'\u001b[39;49m\u001b[43m,\u001b[49m\u001b[43m \u001b[49m\u001b[43m{\u001b[49m\u001b[43m}\u001b[49m\u001b[43m)\u001b[49m\u001b[38;5;241;43m.\u001b[39;49m\u001b[43mget\u001b[49m(\u001b[38;5;124m'\u001b[39m\u001b[38;5;124mtext\u001b[39m\u001b[38;5;124m'\u001b[39m, \u001b[38;5;124m'\u001b[39m\u001b[38;5;124mN/A\u001b[39m\u001b[38;5;124m'\u001b[39m),\n\u001b[1;32m     27\u001b[0m                 \u001b[38;5;124m'\u001b[39m\u001b[38;5;124mIs Sold Out\u001b[39m\u001b[38;5;124m'\u001b[39m: item\u001b[38;5;241m.\u001b[39mget(\u001b[38;5;124m'\u001b[39m\u001b[38;5;124misSoldOut\u001b[39m\u001b[38;5;124m'\u001b[39m, \u001b[38;5;124m'\u001b[39m\u001b[38;5;124mN/A\u001b[39m\u001b[38;5;124m'\u001b[39m)\n\u001b[1;32m     28\u001b[0m             }\n\u001b[1;32m     29\u001b[0m             products\u001b[38;5;241m.\u001b[39mappend(product_info)\n\u001b[1;32m     31\u001b[0m \u001b[38;5;66;03m# Print the extracted product information\u001b[39;00m\n",
      "\u001b[0;31mAttributeError\u001b[0m: 'list' object has no attribute 'get'"
     ]
    }
   ],
   "source": [
    "products = extract_product_data()"
   ]
  },
  {
   "cell_type": "code",
   "execution_count": 15,
   "metadata": {},
   "outputs": [
    {
     "name": "stdout",
     "output_type": "stream",
     "text": [
      "Product data saved: json/products_2024-09-16.json\n"
     ]
    }
   ],
   "source": [
    "# Directory to save the JSON file\n",
    "json_directory = 'json'\n",
    "os.makedirs(json_directory, exist_ok=True)  # Create the directory if it doesn't exist\n",
    "\n",
    "# Save the product list as a JSON file with the current date\n",
    "date_str = datetime.now().strftime('%Y-%m-%d')\n",
    "file_name = f'products_{date_str}.json'\n",
    "file_path = os.path.join(json_directory, file_name)  # Save the file in the 'json' directory\n",
    "\n",
    "with open(file_path, 'w', encoding='utf-8') as file:\n",
    "    json.dump(products, file, ensure_ascii=False, indent=4)\n",
    "\n",
    "print(f\"Product data saved: {file_path}\")"
   ]
  },
  {
   "cell_type": "code",
   "execution_count": null,
   "metadata": {},
   "outputs": [],
   "source": []
  }
 ],
 "metadata": {
  "kernelspec": {
   "display_name": "env",
   "language": "python",
   "name": "python3"
  },
  "language_info": {
   "codemirror_mode": {
    "name": "ipython",
    "version": 3
   },
   "file_extension": ".py",
   "mimetype": "text/x-python",
   "name": "python",
   "nbconvert_exporter": "python",
   "pygments_lexer": "ipython3",
   "version": "3.11.7"
  }
 },
 "nbformat": 4,
 "nbformat_minor": 2
}
