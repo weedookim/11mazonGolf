{
 "cells": [
  {
   "cell_type": "code",
   "execution_count": 33,
   "metadata": {},
   "outputs": [],
   "source": [
    "import time\n",
    "import os\n",
    "import requests\n",
    "import json\n",
    "from datetime import datetime "
   ]
  },
  {
   "cell_type": "code",
   "execution_count": 34,
   "metadata": {},
   "outputs": [],
   "source": [
    "url = \"https://apis.11st.co.kr/pui/v2/page?pageId=APCCATEGORY&dispCtgr3No=1150431&benefit=MBSHP_PRD&blckSn=7933&pageMode=END\""
   ]
  },
  {
   "cell_type": "code",
   "execution_count": 35,
   "metadata": {},
   "outputs": [],
   "source": [
    "# Function to fetch and parse product data from a URL\n",
    "def fetch_product_data(url):\n",
    "    response = requests.get(url)\n",
    "    if response.status_code == 200:\n",
    "        return response.json()\n",
    "    else:\n",
    "        print(f\"Failed to fetch data from {url}, Status Code: {response.status_code}\")\n",
    "        return None"
   ]
  },
  {
   "cell_type": "code",
   "execution_count": 36,
   "metadata": {},
   "outputs": [],
   "source": [
    "# Function to extract product data from the JSON response\n",
    "def extract_products_from_json(json_data):\n",
    "    products = []\n",
    "\n",
    "    # Check if 'data' and 'blockList' keys are present\n",
    "    if 'data' in json_data and len(json_data['data']) > 0:\n",
    "        data_block = json_data['data'][0]\n",
    "        if 'blockList' in data_block:\n",
    "            # Loop through all blocks in 'blockList'\n",
    "            for block in data_block['blockList']:\n",
    "                # Check if the block contains products (based on its type)\n",
    "                if block['type'] == 'Acme_PC_ProductBox_Category_Col4_Small':\n",
    "                    # Extract products from this block\n",
    "                    for item in block.get('list', []):  # Use get to avoid KeyError if 'list' is missing\n",
    "                        # Ensure the required fields exist before extraction\n",
    "                        if 'prdNm' in item:\n",
    "                            # Extract promotionFlags text if available\n",
    "                            promotion_flags = item.get('promotionFlags', [])\n",
    "                            # Join multiple promotion texts if present\n",
    "                            promotion_texts = ', '.join(flag.get('text', '') for flag in promotion_flags)\n",
    "\n",
    "                            # Extract product information\n",
    "                            product_info = {\n",
    "                                'Image URL': item.get('imageUrl', 'N/A'),\n",
    "                                'Product Name': item.get('prdNm', 'N/A'),\n",
    "                                'Original Price': item.get('sellPrice', 'N/A'),\n",
    "                                'Discounted Price': item.get('finalDscPrice', 'N/A'),\n",
    "                                'Discount Rate': item.get('discountRate', 'N/A') + item.get('discountRateUnitText', ''),\n",
    "                                'Link': item.get('linkUrl', 'N/A'),\n",
    "                                'Review Count': item.get('review', {}).get('count', 'N/A'),\n",
    "                                'Review Score': item.get('review', {}).get('point', 'N/A'),\n",
    "                                'Is Sold Out': item.get('isSoldOut', 'N/A'),\n",
    "                                'Promotion Texts': promotion_texts  # Include promotion texts here\n",
    "                            }\n",
    "                            products.append(product_info)\n",
    "\n",
    "    return products"
   ]
  },
  {
   "cell_type": "code",
   "execution_count": null,
   "metadata": {},
   "outputs": [],
   "source": [
    "# Function to find 'nextDataUrl' recursively in JSON\n",
    "def find_next_data_url(json_data):\n",
    "\n",
    "    find_URL = None\n",
    "\n",
    "     # Check if 'data' and 'blockList' keys are present\n",
    "    if 'data' in json_data and len(json_data['data']) > 0:\n",
    "        data_block = json_data['data'][0]\n",
    "        if 'blockList' in data_block:\n",
    "            # Loop through all blocks in 'blockList'\n",
    "            for block in data_block['blockList']:\n",
    "                # Check if the block contains products (based on its type)\n",
    "                if block['type'] == 'Function_Paging':\n",
    "                    for item in block.get('list', []): \n",
    "                        find_URL = item.get('nextDataUrl', None)\n",
    "\n",
    "    return find_URL\n",
    "\n",
    "                    \n",
    "                    \n"
   ]
  },
  {
   "cell_type": "code",
   "execution_count": 37,
   "metadata": {},
   "outputs": [
    {
     "name": "stdout",
     "output_type": "stream",
     "text": [
      "Fetching next page: https://apis.11st.co.kr/pui/v2/page?pageId=APCCATEGORY&dispCtgr2No=1149914&benefit=MBSHP_PRD&blckSn=7936&pageMode=NEXT&pageNo=2\n",
      "Fetching next page: https://apis.11st.co.kr/pui/v2/page?pageId=APCCATEGORY&dispCtgr2No=1149914&benefit=MBSHP_PRD&blckSn=7936&pageMode=NEXT&pageNo=3\n",
      "Fetching next page: https://apis.11st.co.kr/pui/v2/page?pageId=APCCATEGORY&dispCtgr2No=1149914&benefit=MBSHP_PRD&blckSn=7936&pageMode=NEXT&pageNo=4\n",
      "Fetching next page: https://apis.11st.co.kr/pui/v2/page?pageId=APCCATEGORY&dispCtgr2No=1149914&benefit=MBSHP_PRD&blckSn=7936&pageMode=NEXT&pageNo=5\n",
      "Fetching next page: https://apis.11st.co.kr/pui/v2/page?pageId=APCCATEGORY&dispCtgr2No=1149914&benefit=MBSHP_PRD&blckSn=7936&pageMode=NEXT&pageNo=6\n",
      "Fetching next page: https://apis.11st.co.kr/pui/v2/page?pageId=APCCATEGORY&dispCtgr2No=1149914&benefit=MBSHP_PRD&blckSn=7936&pageMode=NEXT&pageNo=7\n",
      "Fetching next page: https://apis.11st.co.kr/pui/v2/page?pageId=APCCATEGORY&dispCtgr2No=1149914&benefit=MBSHP_PRD&blckSn=7936&pageMode=NEXT&pageNo=8\n",
      "Fetching next page: https://apis.11st.co.kr/pui/v2/page?pageId=APCCATEGORY&dispCtgr2No=1149914&benefit=MBSHP_PRD&blckSn=7936&pageMode=NEXT&pageNo=9\n",
      "Fetching next page: https://apis.11st.co.kr/pui/v2/page?pageId=APCCATEGORY&dispCtgr2No=1149914&benefit=MBSHP_PRD&blckSn=7936&pageMode=NEXT&pageNo=10\n",
      "Fetching next page: https://apis.11st.co.kr/pui/v2/page?pageId=APCCATEGORY&dispCtgr2No=1149914&benefit=MBSHP_PRD&blckSn=7936&pageMode=NEXT&pageNo=11\n",
      "Fetching next page: https://apis.11st.co.kr/pui/v2/page?pageId=APCCATEGORY&dispCtgr2No=1149914&benefit=MBSHP_PRD&blckSn=7936&pageMode=NEXT&pageNo=12\n",
      "Fetching next page: https://apis.11st.co.kr/pui/v2/page?pageId=APCCATEGORY&dispCtgr2No=1149914&benefit=MBSHP_PRD&blckSn=7936&pageMode=NEXT&pageNo=13\n",
      "Fetching next page: https://apis.11st.co.kr/pui/v2/page?pageId=APCCATEGORY&dispCtgr2No=1149914&benefit=MBSHP_PRD&blckSn=7936&pageMode=NEXT&pageNo=14\n",
      "Fetching next page: https://apis.11st.co.kr/pui/v2/page?pageId=APCCATEGORY&dispCtgr2No=1149914&benefit=MBSHP_PRD&blckSn=7936&pageMode=NEXT&pageNo=15\n",
      "Fetching next page: https://apis.11st.co.kr/pui/v2/page?pageId=APCCATEGORY&dispCtgr2No=1149914&benefit=MBSHP_PRD&blckSn=7936&pageMode=NEXT&pageNo=16\n",
      "Fetching next page: https://apis.11st.co.kr/pui/v2/page?pageId=APCCATEGORY&dispCtgr2No=1149914&benefit=MBSHP_PRD&blckSn=7936&pageMode=NEXT&pageNo=17\n",
      "Fetching next page: https://apis.11st.co.kr/pui/v2/page?pageId=APCCATEGORY&dispCtgr2No=1149914&benefit=MBSHP_PRD&blckSn=7936&pageMode=NEXT&pageNo=18\n",
      "Fetching next page: https://apis.11st.co.kr/pui/v2/page?pageId=APCCATEGORY&dispCtgr2No=1149914&benefit=MBSHP_PRD&blckSn=7936&pageMode=NEXT&pageNo=19\n",
      "Fetching next page: https://apis.11st.co.kr/pui/v2/page?pageId=APCCATEGORY&dispCtgr2No=1149914&benefit=MBSHP_PRD&blckSn=7936&pageMode=NEXT&pageNo=20\n",
      "Fetching next page: https://apis.11st.co.kr/pui/v2/page?pageId=APCCATEGORY&dispCtgr2No=1149914&benefit=MBSHP_PRD&blckSn=7936&pageMode=NEXT&pageNo=21\n",
      "Fetching next page: https://apis.11st.co.kr/pui/v2/page?pageId=APCCATEGORY&dispCtgr2No=1149914&benefit=MBSHP_PRD&blckSn=7936&pageMode=NEXT&pageNo=22\n",
      "Fetching next page: https://apis.11st.co.kr/pui/v2/page?pageId=APCCATEGORY&dispCtgr2No=1149914&benefit=MBSHP_PRD&blckSn=7936&pageMode=NEXT&pageNo=23\n",
      "Fetching next page: https://apis.11st.co.kr/pui/v2/page?pageId=APCCATEGORY&dispCtgr2No=1149914&benefit=MBSHP_PRD&blckSn=7936&pageMode=NEXT&pageNo=24\n",
      "Fetching next page: https://apis.11st.co.kr/pui/v2/page?pageId=APCCATEGORY&dispCtgr2No=1149914&benefit=MBSHP_PRD&blckSn=7936&pageMode=NEXT&pageNo=25\n",
      "Fetching next page: https://apis.11st.co.kr/pui/v2/page?pageId=APCCATEGORY&dispCtgr2No=1149914&benefit=MBSHP_PRD&blckSn=7936&pageMode=NEXT&pageNo=26\n",
      "Fetching next page: https://apis.11st.co.kr/pui/v2/page?pageId=APCCATEGORY&dispCtgr2No=1149914&benefit=MBSHP_PRD&blckSn=7936&pageMode=NEXT&pageNo=27\n",
      "Fetching next page: https://apis.11st.co.kr/pui/v2/page?pageId=APCCATEGORY&dispCtgr2No=1149914&benefit=MBSHP_PRD&blckSn=7936&pageMode=NEXT&pageNo=28\n",
      "Fetching next page: https://apis.11st.co.kr/pui/v2/page?pageId=APCCATEGORY&dispCtgr2No=1149914&benefit=MBSHP_PRD&blckSn=7936&pageMode=NEXT&pageNo=29\n",
      "Fetching next page: https://apis.11st.co.kr/pui/v2/page?pageId=APCCATEGORY&dispCtgr2No=1149914&benefit=MBSHP_PRD&blckSn=7936&pageMode=NEXT&pageNo=30\n",
      "Fetching next page: https://apis.11st.co.kr/pui/v2/page?pageId=APCCATEGORY&dispCtgr2No=1149914&benefit=MBSHP_PRD&blckSn=7936&pageMode=NEXT&pageNo=31\n",
      "Fetching next page: https://apis.11st.co.kr/pui/v2/page?pageId=APCCATEGORY&dispCtgr2No=1149914&benefit=MBSHP_PRD&blckSn=7936&pageMode=NEXT&pageNo=32\n",
      "Fetching next page: https://apis.11st.co.kr/pui/v2/page?pageId=APCCATEGORY&dispCtgr2No=1149914&benefit=MBSHP_PRD&blckSn=7936&pageMode=NEXT&pageNo=33\n",
      "Fetching next page: https://apis.11st.co.kr/pui/v2/page?pageId=APCCATEGORY&dispCtgr2No=1149914&benefit=MBSHP_PRD&blckSn=7936&pageMode=NEXT&pageNo=34\n",
      "Fetching next page: https://apis.11st.co.kr/pui/v2/page?pageId=APCCATEGORY&dispCtgr2No=1149914&benefit=MBSHP_PRD&blckSn=7936&pageMode=NEXT&pageNo=35\n",
      "Fetching next page: https://apis.11st.co.kr/pui/v2/page?pageId=APCCATEGORY&dispCtgr2No=1149914&benefit=MBSHP_PRD&blckSn=7936&pageMode=NEXT&pageNo=36\n",
      "Fetching next page: https://apis.11st.co.kr/pui/v2/page?pageId=APCCATEGORY&dispCtgr2No=1149914&benefit=MBSHP_PRD&blckSn=7936&pageMode=NEXT&pageNo=37\n",
      "Fetching next page: https://apis.11st.co.kr/pui/v2/page?pageId=APCCATEGORY&dispCtgr2No=1149914&benefit=MBSHP_PRD&blckSn=7936&pageMode=NEXT&pageNo=38\n",
      "Fetching next page: https://apis.11st.co.kr/pui/v2/page?pageId=APCCATEGORY&dispCtgr2No=1149914&benefit=MBSHP_PRD&blckSn=7936&pageMode=NEXT&pageNo=39\n",
      "Fetching next page: https://apis.11st.co.kr/pui/v2/page?pageId=APCCATEGORY&dispCtgr2No=1149914&benefit=MBSHP_PRD&blckSn=7936&pageMode=NEXT&pageNo=40\n",
      "Fetching next page: https://apis.11st.co.kr/pui/v2/page?pageId=APCCATEGORY&dispCtgr2No=1149914&benefit=MBSHP_PRD&blckSn=7936&pageMode=NEXT&pageNo=41\n",
      "Fetching next page: https://apis.11st.co.kr/pui/v2/page?pageId=APCCATEGORY&dispCtgr2No=1149914&benefit=MBSHP_PRD&blckSn=7936&pageMode=NEXT&pageNo=42\n",
      "Fetching next page: https://apis.11st.co.kr/pui/v2/page?pageId=APCCATEGORY&dispCtgr2No=1149914&benefit=MBSHP_PRD&blckSn=7936&pageMode=NEXT&pageNo=43\n",
      "Fetching next page: https://apis.11st.co.kr/pui/v2/page?pageId=APCCATEGORY&dispCtgr2No=1149914&benefit=MBSHP_PRD&blckSn=7936&pageMode=NEXT&pageNo=44\n",
      "Fetching next page: https://apis.11st.co.kr/pui/v2/page?pageId=APCCATEGORY&dispCtgr2No=1149914&benefit=MBSHP_PRD&blckSn=7936&pageMode=NEXT&pageNo=45\n",
      "Fetching next page: https://apis.11st.co.kr/pui/v2/page?pageId=APCCATEGORY&dispCtgr2No=1149914&benefit=MBSHP_PRD&blckSn=7936&pageMode=NEXT&pageNo=46\n",
      "Fetching next page: https://apis.11st.co.kr/pui/v2/page?pageId=APCCATEGORY&dispCtgr2No=1149914&benefit=MBSHP_PRD&blckSn=7936&pageMode=NEXT&pageNo=47\n",
      "Fetching next page: https://apis.11st.co.kr/pui/v2/page?pageId=APCCATEGORY&dispCtgr2No=1149914&benefit=MBSHP_PRD&blckSn=7936&pageMode=NEXT&pageNo=48\n",
      "Fetching next page: https://apis.11st.co.kr/pui/v2/page?pageId=APCCATEGORY&dispCtgr2No=1149914&benefit=MBSHP_PRD&blckSn=7936&pageMode=NEXT&pageNo=49\n",
      "Fetching next page: https://apis.11st.co.kr/pui/v2/page?pageId=APCCATEGORY&dispCtgr2No=1149914&benefit=MBSHP_PRD&blckSn=7936&pageMode=NEXT&pageNo=50\n",
      "Fetching next page: https://apis.11st.co.kr/pui/v2/page?pageId=APCCATEGORY&dispCtgr2No=1149914&benefit=MBSHP_PRD&blckSn=7936&pageMode=END\n"
     ]
    },
    {
     "ename": "KeyError",
     "evalue": "'data'",
     "output_type": "error",
     "traceback": [
      "\u001b[0;31m---------------------------------------------------------------------------\u001b[0m",
      "\u001b[0;31mKeyError\u001b[0m                                  Traceback (most recent call last)",
      "Cell \u001b[0;32mIn[37], line 50\u001b[0m\n\u001b[1;32m     46\u001b[0m         \u001b[38;5;28mprint\u001b[39m(product)\n\u001b[1;32m     49\u001b[0m \u001b[38;5;28;01mif\u001b[39;00m \u001b[38;5;18m__name__\u001b[39m \u001b[38;5;241m==\u001b[39m \u001b[38;5;124m'\u001b[39m\u001b[38;5;124m__main__\u001b[39m\u001b[38;5;124m'\u001b[39m:\n\u001b[0;32m---> 50\u001b[0m     \u001b[43mmain\u001b[49m\u001b[43m(\u001b[49m\u001b[43m)\u001b[49m\n",
      "Cell \u001b[0;32mIn[37], line 21\u001b[0m, in \u001b[0;36mmain\u001b[0;34m()\u001b[0m\n\u001b[1;32m     16\u001b[0m all_products\u001b[38;5;241m.\u001b[39mextend(products)\n\u001b[1;32m     18\u001b[0m \u001b[38;5;66;03m# Get the next data URL\u001b[39;00m\n\u001b[1;32m     19\u001b[0m \u001b[38;5;66;03m#current_url = json_data['data'][0].get('nextDataUrl', None)\u001b[39;00m\n\u001b[1;32m     20\u001b[0m \u001b[38;5;66;03m# Loop through all blocks in 'blockList'\u001b[39;00m\n\u001b[0;32m---> 21\u001b[0m \u001b[38;5;28;01mif\u001b[39;00m \u001b[38;5;129;01mnot\u001b[39;00m \u001b[43mjson_data\u001b[49m\u001b[43m[\u001b[49m\u001b[38;5;124;43m'\u001b[39;49m\u001b[38;5;124;43mdata\u001b[39;49m\u001b[38;5;124;43m'\u001b[39;49m\u001b[43m]\u001b[49m:\n\u001b[1;32m     22\u001b[0m     \u001b[38;5;28;01mbreak\u001b[39;00m\n\u001b[1;32m     24\u001b[0m \u001b[38;5;28;01mfor\u001b[39;00m block \u001b[38;5;129;01min\u001b[39;00m json_data[\u001b[38;5;124m'\u001b[39m\u001b[38;5;124mdata\u001b[39m\u001b[38;5;124m'\u001b[39m][\u001b[38;5;241m0\u001b[39m][\u001b[38;5;124m'\u001b[39m\u001b[38;5;124mblockList\u001b[39m\u001b[38;5;124m'\u001b[39m]:\n\u001b[1;32m     25\u001b[0m     \u001b[38;5;66;03m# Check if the block contains products (based on its type)\u001b[39;00m\n",
      "\u001b[0;31mKeyError\u001b[0m: 'data'"
     ]
    }
   ],
   "source": [
    "# Main function to generate and save product data\n",
    "def main():\n",
    "    base_url = 'https://apis.11st.co.kr/pui/v2/page?pageId=APCCATEGORY&dispCtgr2No=1149914&benefit=MBSHP_PRD&blckSn=7933&pageMode=END'\n",
    "    all_products = []\n",
    "\n",
    "    # Loop through the pages as long as there's a nextDataUrl\n",
    "    current_url = base_url\n",
    "    while current_url:\n",
    "        # Fetch the JSON data from the current URL\n",
    "        json_data = fetch_product_data(current_url)\n",
    "        if not json_data:\n",
    "            break\n",
    "\n",
    "        # Extract products and append to all_products\n",
    "        products = extract_products_from_json(json_data)\n",
    "        all_products.extend(products)\n",
    "\n",
    "        # Get the next data URL\n",
    "        #current_url = json_data['data'][0].get('nextDataUrl', None)\n",
    "        # Loop through all blocks in 'blockList'\n",
    "        current_url = find_next_data_url(json_data) \n",
    "\n",
    "    # Save the collected product data as a JSON file with the current date\n",
    "    date_str = datetime.now().strftime('%Y-%m-%d')\n",
    "    output_directory = 'json'  # Directory to save the JSON files\n",
    "    os.makedirs(output_directory, exist_ok=True)  # Create directory if it doesn't exist\n",
    "    file_name = os.path.join(output_directory, f'products_{date_str}.json')\n",
    "\n",
    "    with open(file_name, 'w', encoding='utf-8') as file:\n",
    "        json.dump(all_products, file, ensure_ascii=False, indent=4)\n",
    "\n",
    "    print(f\"Product data saved: {file_name}\")\n",
    "\n",
    "    # Print the extracted product information for verification\n",
    "    for product in all_products:\n",
    "        print(product)\n",
    "\n",
    "\n",
    "if __name__ == '__main__':\n",
    "    main()"
   ]
  },
  {
   "cell_type": "code",
   "execution_count": 10,
   "metadata": {},
   "outputs": [
    {
     "ename": "NameError",
     "evalue": "name 'all_products' is not defined",
     "output_type": "error",
     "traceback": [
      "\u001b[0;31m---------------------------------------------------------------------------\u001b[0m",
      "\u001b[0;31mNameError\u001b[0m                                 Traceback (most recent call last)",
      "Cell \u001b[0;32mIn[10], line 1\u001b[0m\n\u001b[0;32m----> 1\u001b[0m \u001b[43mall_products\u001b[49m\n",
      "\u001b[0;31mNameError\u001b[0m: name 'all_products' is not defined"
     ]
    }
   ],
   "source": []
  },
  {
   "cell_type": "code",
   "execution_count": null,
   "metadata": {},
   "outputs": [],
   "source": []
  }
 ],
 "metadata": {
  "kernelspec": {
   "display_name": "env",
   "language": "python",
   "name": "python3"
  },
  "language_info": {
   "codemirror_mode": {
    "name": "ipython",
    "version": 3
   },
   "file_extension": ".py",
   "mimetype": "text/x-python",
   "name": "python",
   "nbconvert_exporter": "python",
   "pygments_lexer": "ipython3",
   "version": "3.11.7"
  }
 },
 "nbformat": 4,
 "nbformat_minor": 2
}
